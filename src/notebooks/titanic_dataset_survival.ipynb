{
 "cells": [
  {
   "cell_type": "markdown",
   "metadata": {},
   "source": [
    "# Environment Setup"
   ]
  },
  {
   "cell_type": "code",
   "execution_count": 1,
   "metadata": {
    "_uuid": "0ba3c004176c04a5c85059f6e87aac5c1e4d8e18"
   },
   "outputs": [],
   "source": [
    "# Check who is the user running Jupyter.\n",
    "who_am_i = !whoami\n",
    "\n",
    "# Define our data base path.\n",
    "base_path_data = '../input' if who_am_i[0] == 'root' else '../../data'"
   ]
  },
  {
   "cell_type": "code",
   "execution_count": 2,
   "metadata": {
    "_cell_guid": "b1076dfc-b9ad-4769-8c92-a6c4dae69d19",
    "_uuid": "8f2839f25d086af736a60e9eeb907d3b93b6e0e5"
   },
   "outputs": [
    {
     "name": "stdout",
     "output_type": "stream",
     "text": [
      "['.DS_Store', 'test.csv', 'csv_submission.csv', 'train.csv', 'gender_submission.csv']\n"
     ]
    }
   ],
   "source": [
    "# This Python 3 environment comes with many helpful analytics libraries installed\n",
    "# It is defined by the kaggle/python docker image: https://github.com/kaggle/docker-python\n",
    "# For example, here's several helpful packages to load in \n",
    "\n",
    "import numpy as np # linear algebra\n",
    "import pandas as pd # data processing, CSV file I/O (e.g. pd.read_csv)\n",
    "\n",
    "# Input data files are available in the \"../input/\" directory.\n",
    "# For example, running this (by clicking run or pressing Shift+Enter) will list the files in the input directory\n",
    "\n",
    "import os\n",
    "print(os.listdir(base_path_data))\n",
    "\n",
    "# Any results you write to the current directory are saved as output."
   ]
  },
  {
   "cell_type": "markdown",
   "metadata": {
    "_uuid": "2a0155e97de3253cef0514d706ec87e9db888a48"
   },
   "source": [
    "# Data Set Loading"
   ]
  },
  {
   "cell_type": "code",
   "execution_count": 3,
   "metadata": {
    "_cell_guid": "79c7e3d0-c299-4dcb-8224-4455121ee9b0",
    "_uuid": "d629ff2d2480ee46fbb7e2d37f6b5fab8052498a"
   },
   "outputs": [
    {
     "data": {
      "text/plain": [
       "(891, 12)"
      ]
     },
     "execution_count": 3,
     "metadata": {},
     "output_type": "execute_result"
    }
   ],
   "source": [
    "df = pd.read_csv(base_path_data + '/train.csv', sep=\",\", header=0, encoding='utf-8')\n",
    "df.shape"
   ]
  },
  {
   "cell_type": "markdown",
   "metadata": {},
   "source": [
    "# Statistics"
   ]
  },
  {
   "cell_type": "code",
   "execution_count": 4,
   "metadata": {},
   "outputs": [
    {
     "name": "stdout",
     "output_type": "stream",
     "text": [
      "<class 'pandas.core.frame.DataFrame'>\n",
      "RangeIndex: 891 entries, 0 to 890\n",
      "Data columns (total 12 columns):\n",
      "PassengerId    891 non-null int64\n",
      "Survived       891 non-null int64\n",
      "Pclass         891 non-null int64\n",
      "Name           891 non-null object\n",
      "Sex            891 non-null object\n",
      "Age            714 non-null float64\n",
      "SibSp          891 non-null int64\n",
      "Parch          891 non-null int64\n",
      "Ticket         891 non-null object\n",
      "Fare           891 non-null float64\n",
      "Cabin          204 non-null object\n",
      "Embarked       889 non-null object\n",
      "dtypes: float64(2), int64(5), object(5)\n",
      "memory usage: 83.6+ KB\n"
     ]
    }
   ],
   "source": [
    "df.info()"
   ]
  },
  {
   "cell_type": "code",
   "execution_count": 5,
   "metadata": {},
   "outputs": [
    {
     "name": "stdout",
     "output_type": "stream",
     "text": [
      "\n",
      "Stats\n",
      "       PassengerId    Survived      Pclass         Age       SibSp  \\\n",
      "count   891.000000  891.000000  891.000000  714.000000  891.000000   \n",
      "mean    446.000000    0.383838    2.308642   29.699118    0.523008   \n",
      "std     257.353842    0.486592    0.836071   14.526497    1.102743   \n",
      "min       1.000000    0.000000    1.000000    0.420000    0.000000   \n",
      "25%     223.500000    0.000000    2.000000   20.125000    0.000000   \n",
      "50%     446.000000    0.000000    3.000000   28.000000    0.000000   \n",
      "75%     668.500000    1.000000    3.000000   38.000000    1.000000   \n",
      "max     891.000000    1.000000    3.000000   80.000000    8.000000   \n",
      "\n",
      "            Parch        Fare  \n",
      "count  891.000000  891.000000  \n",
      "mean     0.381594   32.204208  \n",
      "std      0.806057   49.693429  \n",
      "min      0.000000    0.000000  \n",
      "25%      0.000000    7.910400  \n",
      "50%      0.000000   14.454200  \n",
      "75%      0.000000   31.000000  \n",
      "max      6.000000  512.329200  \n"
     ]
    }
   ],
   "source": [
    "print('\\nStats')\n",
    "print(df.describe())"
   ]
  },
  {
   "cell_type": "code",
   "execution_count": 6,
   "metadata": {},
   "outputs": [
    {
     "name": "stdout",
     "output_type": "stream",
     "text": [
      "\n",
      "Missing values\n",
      "PassengerId    False\n",
      "Survived       False\n",
      "Pclass         False\n",
      "Name           False\n",
      "Sex            False\n",
      "Age             True\n",
      "SibSp          False\n",
      "Parch          False\n",
      "Ticket         False\n",
      "Fare           False\n",
      "Cabin           True\n",
      "Embarked        True\n",
      "dtype: bool\n"
     ]
    }
   ],
   "source": [
    "# Check which columns have missing data.\n",
    "print('\\nMissing values')\n",
    "print(df.isnull().any())"
   ]
  },
  {
   "cell_type": "code",
   "execution_count": 7,
   "metadata": {},
   "outputs": [
    {
     "name": "stdout",
     "output_type": "stream",
     "text": [
      "Column types\n",
      "PassengerId      int64\n",
      "Survived         int64\n",
      "Pclass           int64\n",
      "Name            object\n",
      "Sex             object\n",
      "Age            float64\n",
      "SibSp            int64\n",
      "Parch            int64\n",
      "Ticket          object\n",
      "Fare           float64\n",
      "Cabin           object\n",
      "Embarked        object\n",
      "dtype: object\n"
     ]
    }
   ],
   "source": [
    "print('Column types')\n",
    "print(df.dtypes)"
   ]
  },
  {
   "cell_type": "code",
   "execution_count": 8,
   "metadata": {},
   "outputs": [
    {
     "name": "stdout",
     "output_type": "stream",
     "text": [
      "Missing values per column:\n",
      "PassengerId      0\n",
      "Survived         0\n",
      "Pclass           0\n",
      "Name             0\n",
      "Sex              0\n",
      "Age            177\n",
      "SibSp            0\n",
      "Parch            0\n",
      "Ticket           0\n",
      "Fare             0\n",
      "Cabin          687\n",
      "Embarked         2\n",
      "dtype: int64\n",
      "Missing values per row:\n",
      "0     1\n",
      "1     0\n",
      "2     1\n",
      "3     0\n",
      "4     1\n",
      "5     2\n",
      "6     0\n",
      "7     1\n",
      "8     1\n",
      "9     1\n",
      "10    0\n",
      "11    0\n",
      "dtype: int64\n"
     ]
    }
   ],
   "source": [
    "# Copied from article: https://www.analyticsvidhya.com/blog/2016/01/12-pandas-techniques-python-data-manipulation\n",
    "def num_missing(x):\n",
    "    return sum(x.isnull())\n",
    "\n",
    "def print_missing_values(df, axis):\n",
    "    print(\"Missing values per %s:\" % ('column' if axis == 0 else 'row'))\n",
    "    print(df.apply(num_missing, axis=axis)[:df.shape[1]]) # axis=0 to apply on each column\n",
    "\n",
    "# Applying per column\n",
    "print_missing_values(df, 0)\n",
    "\n",
    "# Applying per row:\n",
    "print_missing_values(df, 1)"
   ]
  },
  {
   "cell_type": "code",
   "execution_count": 9,
   "metadata": {},
   "outputs": [
    {
     "data": {
      "text/plain": [
       "{'Survived': 342, 'Did not': 549}"
      ]
     },
     "execution_count": 9,
     "metadata": {},
     "output_type": "execute_result"
    }
   ],
   "source": [
    "{'Survived':df.query('Survived == 1').count()[0], 'Did not':df.query('Survived == 0').count()[0]}"
   ]
  },
  {
   "cell_type": "code",
   "execution_count": 10,
   "metadata": {},
   "outputs": [
    {
     "data": {
      "text/html": [
       "<div>\n",
       "<style scoped>\n",
       "    .dataframe tbody tr th:only-of-type {\n",
       "        vertical-align: middle;\n",
       "    }\n",
       "\n",
       "    .dataframe tbody tr th {\n",
       "        vertical-align: top;\n",
       "    }\n",
       "\n",
       "    .dataframe thead th {\n",
       "        text-align: right;\n",
       "    }\n",
       "</style>\n",
       "<table border=\"1\" class=\"dataframe\">\n",
       "  <thead>\n",
       "    <tr style=\"text-align: right;\">\n",
       "      <th></th>\n",
       "      <th>PassengerId</th>\n",
       "      <th>Survived</th>\n",
       "      <th>Pclass</th>\n",
       "      <th>Name</th>\n",
       "      <th>Sex</th>\n",
       "      <th>Age</th>\n",
       "      <th>SibSp</th>\n",
       "      <th>Parch</th>\n",
       "      <th>Ticket</th>\n",
       "      <th>Fare</th>\n",
       "      <th>Cabin</th>\n",
       "      <th>Embarked</th>\n",
       "    </tr>\n",
       "  </thead>\n",
       "  <tbody>\n",
       "    <tr>\n",
       "      <th>78</th>\n",
       "      <td>79</td>\n",
       "      <td>1</td>\n",
       "      <td>2</td>\n",
       "      <td>Caldwell, Master. Alden Gates</td>\n",
       "      <td>male</td>\n",
       "      <td>0.83</td>\n",
       "      <td>0</td>\n",
       "      <td>2</td>\n",
       "      <td>248738</td>\n",
       "      <td>29.0000</td>\n",
       "      <td>NaN</td>\n",
       "      <td>S</td>\n",
       "    </tr>\n",
       "    <tr>\n",
       "      <th>305</th>\n",
       "      <td>306</td>\n",
       "      <td>1</td>\n",
       "      <td>1</td>\n",
       "      <td>Allison, Master. Hudson Trevor</td>\n",
       "      <td>male</td>\n",
       "      <td>0.92</td>\n",
       "      <td>1</td>\n",
       "      <td>2</td>\n",
       "      <td>113781</td>\n",
       "      <td>151.5500</td>\n",
       "      <td>C22 C26</td>\n",
       "      <td>S</td>\n",
       "    </tr>\n",
       "    <tr>\n",
       "      <th>469</th>\n",
       "      <td>470</td>\n",
       "      <td>1</td>\n",
       "      <td>3</td>\n",
       "      <td>Baclini, Miss. Helene Barbara</td>\n",
       "      <td>female</td>\n",
       "      <td>0.75</td>\n",
       "      <td>2</td>\n",
       "      <td>1</td>\n",
       "      <td>2666</td>\n",
       "      <td>19.2583</td>\n",
       "      <td>NaN</td>\n",
       "      <td>C</td>\n",
       "    </tr>\n",
       "    <tr>\n",
       "      <th>644</th>\n",
       "      <td>645</td>\n",
       "      <td>1</td>\n",
       "      <td>3</td>\n",
       "      <td>Baclini, Miss. Eugenie</td>\n",
       "      <td>female</td>\n",
       "      <td>0.75</td>\n",
       "      <td>2</td>\n",
       "      <td>1</td>\n",
       "      <td>2666</td>\n",
       "      <td>19.2583</td>\n",
       "      <td>NaN</td>\n",
       "      <td>C</td>\n",
       "    </tr>\n",
       "    <tr>\n",
       "      <th>755</th>\n",
       "      <td>756</td>\n",
       "      <td>1</td>\n",
       "      <td>2</td>\n",
       "      <td>Hamalainen, Master. Viljo</td>\n",
       "      <td>male</td>\n",
       "      <td>0.67</td>\n",
       "      <td>1</td>\n",
       "      <td>1</td>\n",
       "      <td>250649</td>\n",
       "      <td>14.5000</td>\n",
       "      <td>NaN</td>\n",
       "      <td>S</td>\n",
       "    </tr>\n",
       "    <tr>\n",
       "      <th>803</th>\n",
       "      <td>804</td>\n",
       "      <td>1</td>\n",
       "      <td>3</td>\n",
       "      <td>Thomas, Master. Assad Alexander</td>\n",
       "      <td>male</td>\n",
       "      <td>0.42</td>\n",
       "      <td>0</td>\n",
       "      <td>1</td>\n",
       "      <td>2625</td>\n",
       "      <td>8.5167</td>\n",
       "      <td>NaN</td>\n",
       "      <td>C</td>\n",
       "    </tr>\n",
       "    <tr>\n",
       "      <th>831</th>\n",
       "      <td>832</td>\n",
       "      <td>1</td>\n",
       "      <td>2</td>\n",
       "      <td>Richards, Master. George Sibley</td>\n",
       "      <td>male</td>\n",
       "      <td>0.83</td>\n",
       "      <td>1</td>\n",
       "      <td>1</td>\n",
       "      <td>29106</td>\n",
       "      <td>18.7500</td>\n",
       "      <td>NaN</td>\n",
       "      <td>S</td>\n",
       "    </tr>\n",
       "  </tbody>\n",
       "</table>\n",
       "</div>"
      ],
      "text/plain": [
       "     PassengerId  Survived  Pclass                             Name     Sex  \\\n",
       "78            79         1       2    Caldwell, Master. Alden Gates    male   \n",
       "305          306         1       1   Allison, Master. Hudson Trevor    male   \n",
       "469          470         1       3    Baclini, Miss. Helene Barbara  female   \n",
       "644          645         1       3           Baclini, Miss. Eugenie  female   \n",
       "755          756         1       2        Hamalainen, Master. Viljo    male   \n",
       "803          804         1       3  Thomas, Master. Assad Alexander    male   \n",
       "831          832         1       2  Richards, Master. George Sibley    male   \n",
       "\n",
       "      Age  SibSp  Parch  Ticket      Fare    Cabin Embarked  \n",
       "78   0.83      0      2  248738   29.0000      NaN        S  \n",
       "305  0.92      1      2  113781  151.5500  C22 C26        S  \n",
       "469  0.75      2      1    2666   19.2583      NaN        C  \n",
       "644  0.75      2      1    2666   19.2583      NaN        C  \n",
       "755  0.67      1      1  250649   14.5000      NaN        S  \n",
       "803  0.42      0      1    2625    8.5167      NaN        C  \n",
       "831  0.83      1      1   29106   18.7500      NaN        S  "
      ]
     },
     "execution_count": 10,
     "metadata": {},
     "output_type": "execute_result"
    }
   ],
   "source": [
    "# Check people age under 1.\n",
    "df.query('Age < 1')"
   ]
  },
  {
   "cell_type": "markdown",
   "metadata": {},
   "source": [
    "# Visualization of Data"
   ]
  },
  {
   "cell_type": "code",
   "execution_count": 11,
   "metadata": {},
   "outputs": [
    {
     "data": {
      "image/png": "[encoded data removed]",
      "text/plain": [
       "<Figure size 432.85x360 with 1 Axes>"
      ]
     },
     "metadata": {},
     "output_type": "display_data"
    },
    {
     "data": {
      "image/png": "[encoded data removed]",
      "text/plain": [
       "<Figure size 1152.85x360 with 3 Axes>"
      ]
     },
     "metadata": {},
     "output_type": "display_data"
    }
   ],
   "source": [
    "import matplotlib.pyplot as plt\n",
    "%matplotlib inline\n",
    "\n",
    "import seaborn as sns\n",
    "sns.set(style=\"darkgrid\")\n",
    "\n",
    "# Remove outliers.\n",
    "# df = df[df.Fare < 300]\n",
    "\n",
    "# http://seaborn.pydata.org/tutorial/relational.html\n",
    "sns.relplot(x=\"Age\", y=\"Fare\", hue=\"Sex\", data=df) # size=\"Fare\", sizes=(0, 100), \n",
    "sns.relplot(x=\"Age\", y=\"Fare\", hue=\"Sex\", col=\"Embarked\", palette=\"ch:r=-.5,l=.75\", data=df) # size=\"Fare\", sizes=(0, 100), \n",
    "# plt.title('Fare per age')\n",
    "plt.show()"
   ]
  },
  {
   "cell_type": "code",
   "execution_count": 12,
   "metadata": {},
   "outputs": [
    {
     "data": {
      "image/png": "[encoded data removed]",
      "text/plain": [
       "<Figure size 432x288 with 2 Axes>"
      ]
     },
     "metadata": {},
     "output_type": "display_data"
    }
   ],
   "source": [
    "import seaborn as sns\n",
    "sns.set(style=\"darkgrid\")\n",
    "\n",
    "# Check the correlation between features.\n",
    "corr = df.corr()\n",
    "sns.heatmap(corr, cmap=sns.diverging_palette(20, 50, as_cmap=True), square=True, annot=True, linecolor='k', linewidths=.5)\n",
    "plt.show()"
   ]
  },
  {
   "cell_type": "code",
   "execution_count": 13,
   "metadata": {},
   "outputs": [
    {
     "data": {
      "text/html": [
       "<div>\n",
       "<style scoped>\n",
       "    .dataframe tbody tr th:only-of-type {\n",
       "        vertical-align: middle;\n",
       "    }\n",
       "\n",
       "    .dataframe tbody tr th {\n",
       "        vertical-align: top;\n",
       "    }\n",
       "\n",
       "    .dataframe thead th {\n",
       "        text-align: right;\n",
       "    }\n",
       "</style>\n",
       "<table border=\"1\" class=\"dataframe\">\n",
       "  <thead>\n",
       "    <tr style=\"text-align: right;\">\n",
       "      <th></th>\n",
       "      <th>0</th>\n",
       "      <th>1</th>\n",
       "      <th>2</th>\n",
       "      <th>3</th>\n",
       "      <th>4</th>\n",
       "      <th>5</th>\n",
       "      <th>6</th>\n",
       "      <th>7</th>\n",
       "      <th>8</th>\n",
       "      <th>9</th>\n",
       "      <th>10</th>\n",
       "      <th>11</th>\n",
       "      <th>12</th>\n",
       "      <th>13</th>\n",
       "      <th>14</th>\n",
       "      <th>15</th>\n",
       "    </tr>\n",
       "  </thead>\n",
       "  <tbody>\n",
       "    <tr>\n",
       "      <th>Age</th>\n",
       "      <td>0.42</td>\n",
       "      <td>0.67</td>\n",
       "      <td>0.75</td>\n",
       "      <td>0.83</td>\n",
       "      <td>0.92</td>\n",
       "      <td>1.0</td>\n",
       "      <td>2.0</td>\n",
       "      <td>3.0</td>\n",
       "      <td>4.0</td>\n",
       "      <td>5.0</td>\n",
       "      <td>6.0</td>\n",
       "      <td>7.0</td>\n",
       "      <td>8.0</td>\n",
       "      <td>9.0</td>\n",
       "      <td>10.0</td>\n",
       "      <td>11.0</td>\n",
       "    </tr>\n",
       "    <tr>\n",
       "      <th>Count</th>\n",
       "      <td>1.00</td>\n",
       "      <td>1.00</td>\n",
       "      <td>2.00</td>\n",
       "      <td>2.00</td>\n",
       "      <td>1.00</td>\n",
       "      <td>7.0</td>\n",
       "      <td>10.0</td>\n",
       "      <td>6.0</td>\n",
       "      <td>10.0</td>\n",
       "      <td>4.0</td>\n",
       "      <td>3.0</td>\n",
       "      <td>3.0</td>\n",
       "      <td>4.0</td>\n",
       "      <td>8.0</td>\n",
       "      <td>2.0</td>\n",
       "      <td>4.0</td>\n",
       "    </tr>\n",
       "  </tbody>\n",
       "</table>\n",
       "</div>"
      ],
      "text/plain": [
       "         0     1     2     3     4    5     6    7     8    9    10   11   12  \\\n",
       "Age    0.42  0.67  0.75  0.83  0.92  1.0   2.0  3.0   4.0  5.0  6.0  7.0  8.0   \n",
       "Count  1.00  1.00  2.00  2.00  1.00  7.0  10.0  6.0  10.0  4.0  3.0  3.0  4.0   \n",
       "\n",
       "        13    14    15  \n",
       "Age    9.0  10.0  11.0  \n",
       "Count  8.0   2.0   4.0  "
      ]
     },
     "execution_count": 13,
     "metadata": {},
     "output_type": "execute_result"
    }
   ],
   "source": [
    "# Group by age and count to see the distribution.\n",
    "age_2_count = df.groupby('Age')['PassengerId'].count().reset_index(name=\"Count\")\n",
    "\n",
    "# Transpose for the sake of visibility.\n",
    "age_2_count.loc[:15,].transpose()"
   ]
  },
  {
   "cell_type": "code",
   "execution_count": 14,
   "metadata": {},
   "outputs": [
    {
     "data": {
      "image/png": "[encoded data removed]",
      "text/plain": [
       "<Figure size 432x288 with 1 Axes>"
      ]
     },
     "metadata": {
      "needs_background": "light"
     },
     "output_type": "display_data"
    }
   ],
   "source": [
    "import matplotlib.pyplot as plt\n",
    "%matplotlib inline\n",
    "\n",
    "# Set the plot.\n",
    "sns.scatterplot(x=\"Age\", y=\"Count\", hue=\"Count\", palette=\"ch:r=-.5,l=.75\", data=age_2_count) # size=\"Fare\", sizes=(0, 100), \n",
    "\n",
    "plt.title('Number of persons per age')\n",
    "plt.show()"
   ]
  },
  {
   "cell_type": "markdown",
   "metadata": {},
   "source": [
    "# Data Set Preparation (Pre-processing)"
   ]
  },
  {
   "cell_type": "code",
   "execution_count": 15,
   "metadata": {},
   "outputs": [],
   "source": [
    "df_tmp = df.copy(deep=True)"
   ]
  },
  {
   "cell_type": "markdown",
   "metadata": {},
   "source": [
    "## Feature Engineering"
   ]
  },
  {
   "cell_type": "code",
   "execution_count": 16,
   "metadata": {},
   "outputs": [
    {
     "data": {
      "text/html": [
       "<div>\n",
       "<style scoped>\n",
       "    .dataframe tbody tr th:only-of-type {\n",
       "        vertical-align: middle;\n",
       "    }\n",
       "\n",
       "    .dataframe tbody tr th {\n",
       "        vertical-align: top;\n",
       "    }\n",
       "\n",
       "    .dataframe thead th {\n",
       "        text-align: right;\n",
       "    }\n",
       "</style>\n",
       "<table border=\"1\" class=\"dataframe\">\n",
       "  <thead>\n",
       "    <tr style=\"text-align: right;\">\n",
       "      <th></th>\n",
       "      <th>PassengerId</th>\n",
       "      <th>Survived</th>\n",
       "      <th>Pclass</th>\n",
       "      <th>Name</th>\n",
       "      <th>Sex</th>\n",
       "      <th>Age</th>\n",
       "      <th>SibSp</th>\n",
       "      <th>Parch</th>\n",
       "      <th>Ticket</th>\n",
       "      <th>Fare</th>\n",
       "      <th>Cabin</th>\n",
       "      <th>Embarked</th>\n",
       "    </tr>\n",
       "  </thead>\n",
       "  <tbody>\n",
       "    <tr>\n",
       "      <th>0</th>\n",
       "      <td>1</td>\n",
       "      <td>0</td>\n",
       "      <td>3</td>\n",
       "      <td>Braund, Mr. Owen Harris</td>\n",
       "      <td>male</td>\n",
       "      <td>22.0</td>\n",
       "      <td>1</td>\n",
       "      <td>0</td>\n",
       "      <td>A/5 21171</td>\n",
       "      <td>7.2500</td>\n",
       "      <td>NaN</td>\n",
       "      <td>S</td>\n",
       "    </tr>\n",
       "    <tr>\n",
       "      <th>1</th>\n",
       "      <td>2</td>\n",
       "      <td>1</td>\n",
       "      <td>1</td>\n",
       "      <td>Cumings, Mrs. John Bradley (Florence Briggs Th...</td>\n",
       "      <td>female</td>\n",
       "      <td>38.0</td>\n",
       "      <td>1</td>\n",
       "      <td>0</td>\n",
       "      <td>PC 17599</td>\n",
       "      <td>71.2833</td>\n",
       "      <td>C85</td>\n",
       "      <td>C</td>\n",
       "    </tr>\n",
       "    <tr>\n",
       "      <th>2</th>\n",
       "      <td>3</td>\n",
       "      <td>1</td>\n",
       "      <td>3</td>\n",
       "      <td>Heikkinen, Miss. Laina</td>\n",
       "      <td>female</td>\n",
       "      <td>26.0</td>\n",
       "      <td>0</td>\n",
       "      <td>0</td>\n",
       "      <td>STON/O2. 3101282</td>\n",
       "      <td>7.9250</td>\n",
       "      <td>NaN</td>\n",
       "      <td>S</td>\n",
       "    </tr>\n",
       "    <tr>\n",
       "      <th>3</th>\n",
       "      <td>4</td>\n",
       "      <td>1</td>\n",
       "      <td>1</td>\n",
       "      <td>Futrelle, Mrs. Jacques Heath (Lily May Peel)</td>\n",
       "      <td>female</td>\n",
       "      <td>35.0</td>\n",
       "      <td>1</td>\n",
       "      <td>0</td>\n",
       "      <td>113803</td>\n",
       "      <td>53.1000</td>\n",
       "      <td>C123</td>\n",
       "      <td>S</td>\n",
       "    </tr>\n",
       "    <tr>\n",
       "      <th>4</th>\n",
       "      <td>5</td>\n",
       "      <td>0</td>\n",
       "      <td>3</td>\n",
       "      <td>Allen, Mr. William Henry</td>\n",
       "      <td>male</td>\n",
       "      <td>35.0</td>\n",
       "      <td>0</td>\n",
       "      <td>0</td>\n",
       "      <td>373450</td>\n",
       "      <td>8.0500</td>\n",
       "      <td>NaN</td>\n",
       "      <td>S</td>\n",
       "    </tr>\n",
       "  </tbody>\n",
       "</table>\n",
       "</div>"
      ],
      "text/plain": [
       "   PassengerId  Survived  Pclass  \\\n",
       "0            1         0       3   \n",
       "1            2         1       1   \n",
       "2            3         1       3   \n",
       "3            4         1       1   \n",
       "4            5         0       3   \n",
       "\n",
       "                                                Name     Sex   Age  SibSp  \\\n",
       "0                            Braund, Mr. Owen Harris    male  22.0      1   \n",
       "1  Cumings, Mrs. John Bradley (Florence Briggs Th...  female  38.0      1   \n",
       "2                             Heikkinen, Miss. Laina  female  26.0      0   \n",
       "3       Futrelle, Mrs. Jacques Heath (Lily May Peel)  female  35.0      1   \n",
       "4                           Allen, Mr. William Henry    male  35.0      0   \n",
       "\n",
       "   Parch            Ticket     Fare Cabin Embarked  \n",
       "0      0         A/5 21171   7.2500   NaN        S  \n",
       "1      0          PC 17599  71.2833   C85        C  \n",
       "2      0  STON/O2. 3101282   7.9250   NaN        S  \n",
       "3      0            113803  53.1000  C123        S  \n",
       "4      0            373450   8.0500   NaN        S  "
      ]
     },
     "execution_count": 16,
     "metadata": {},
     "output_type": "execute_result"
    }
   ],
   "source": [
    "import re\n",
    "\n",
    "def extract_title(name):\n",
    "#     print(name)\n",
    "    m = re.search(\".*,((\\s*\\w)+\\.).*\", name)\n",
    "    if not m:\n",
    "        print(name)\n",
    "    return m.groups(0)[0].strip()\n",
    "\n",
    "# print(extract_title('Pain, Dr. Alfred').strip())\n",
    "\n",
    "# Find passenger with Dr title\n",
    "# print(df[df['Name'].str.contains('Dr')])\n",
    "\n",
    "# Title needs to be engineered using values from the test set or use it differently.\n",
    "# For now, leave it out.\n",
    "# df_tmp['Title'] = df_tmp['Name'].apply(extract_title)\n",
    "\n",
    "df_tmp.head()"
   ]
  },
  {
   "cell_type": "code",
   "execution_count": 17,
   "metadata": {},
   "outputs": [
    {
     "data": {
      "image/png": "[encoded data removed]",
      "text/plain": [
       "<Figure size 432x288 with 1 Axes>"
      ]
     },
     "metadata": {
      "needs_background": "light"
     },
     "output_type": "display_data"
    }
   ],
   "source": [
    "sns.boxplot(x=\"Sex\", y=\"Age\", hue='Pclass', palette=[\"m\", \"g\"], data=df_tmp)\n",
    "plt.show()"
   ]
  },
  {
   "cell_type": "code",
   "execution_count": 18,
   "metadata": {},
   "outputs": [
    {
     "data": {
      "image/png": "[encoded data removed]",
      "text/plain": [
       "<Figure size 432x288 with 1 Axes>"
      ]
     },
     "metadata": {
      "needs_background": "light"
     },
     "output_type": "display_data"
    }
   ],
   "source": [
    "sns.boxplot(x=\"Survived\", y=\"Age\", palette=[\"m\", \"g\"], data=df_tmp)\n",
    "plt.show()"
   ]
  },
  {
   "cell_type": "markdown",
   "metadata": {},
   "source": [
    "## Imputation of Missing Values"
   ]
  },
  {
   "cell_type": "code",
   "execution_count": 19,
   "metadata": {},
   "outputs": [
    {
     "name": "stdout",
     "output_type": "stream",
     "text": [
      "Missing values per column:\n",
      "PassengerId      0\n",
      "Survived         0\n",
      "Pclass           0\n",
      "Name             0\n",
      "Sex              0\n",
      "Age            177\n",
      "SibSp            0\n",
      "Parch            0\n",
      "Ticket           0\n",
      "Fare             0\n",
      "Cabin          687\n",
      "Embarked         2\n",
      "dtype: int64\n"
     ]
    }
   ],
   "source": [
    "print_missing_values(df_tmp, 0)"
   ]
  },
  {
   "cell_type": "code",
   "execution_count": 20,
   "metadata": {},
   "outputs": [
    {
     "name": "stdout",
     "output_type": "stream",
     "text": [
      "                                                 Name  Parch  SibSp   Age\n",
      "0                             Braund, Mr. Owen Harris      0      1  22.0\n",
      "1   Cumings, Mrs. John Bradley (Florence Briggs Th...      0      1  38.0\n",
      "2                              Heikkinen, Miss. Laina      0      0  26.0\n",
      "3        Futrelle, Mrs. Jacques Heath (Lily May Peel)      0      1  35.0\n",
      "4                            Allen, Mr. William Henry      0      0  35.0\n",
      "5                                    Moran, Mr. James      0      0   NaN\n",
      "6                             McCarthy, Mr. Timothy J      0      0  54.0\n",
      "7                      Palsson, Master. Gosta Leonard      1      3   2.0\n",
      "8   Johnson, Mrs. Oscar W (Elisabeth Vilhelmina Berg)      2      0  27.0\n",
      "9                 Nasser, Mrs. Nicholas (Adele Achem)      0      1  14.0\n",
      "10                    Sandstrom, Miss. Marguerite Rut      1      1   4.0\n",
      "11                           Bonnell, Miss. Elizabeth      0      0  58.0\n",
      "12                     Saundercock, Mr. William Henry      0      0  20.0\n",
      "13                        Andersson, Mr. Anders Johan      5      1  39.0\n",
      "14               Vestrom, Miss. Hulda Amanda Adolfina      0      0  14.0\n",
      "\n",
      "PassengerId    False\n",
      "Survived       False\n",
      "Pclass         False\n",
      "Name           False\n",
      "Sex            False\n",
      "Age             True\n",
      "SibSp          False\n",
      "Parch          False\n",
      "Ticket         False\n",
      "Fare           False\n",
      "Cabin           True\n",
      "Embarked        True\n",
      "dtype: bool\n"
     ]
    },
    {
     "data": {
      "text/plain": [
       "24.0"
      ]
     },
     "execution_count": 20,
     "metadata": {},
     "output_type": "execute_result"
    }
   ],
   "source": [
    "# One method to show entries with NA values for Embarked column.\n",
    "# nans = lambda df: df[df.isnull().any(axis=1)]\n",
    "# nans(df_raw.loc[:, ['Embarked']])\n",
    "\n",
    "# Another method to show entries, not working\n",
    "# print(df_raw[df_raw['Embarked'].apply(np.isnan)])\n",
    "\n",
    "# Preferred method to show entries where Embarked is null, NaN, etc.\n",
    "print(df_tmp.query('Age != Age or Age == Age').loc[:, ['Name', 'Parch', 'SibSp', 'Age']].iloc[:15,])\n",
    "print('\\n' + str(df_tmp.isnull().any()))\n",
    "\n",
    "# Show the most frequent value in the features.\n",
    "df_tmp['Age'].mode().values[0]"
   ]
  },
  {
   "cell_type": "code",
   "execution_count": 21,
   "metadata": {},
   "outputs": [],
   "source": [
    "from sklearn.impute import SimpleImputer\n",
    "class DataPreparator:\n",
    "    def impute(self, df, df_for_fitting=None, strategy='mean', column=None):\n",
    "        \"\"\"\n",
    "        Impute the data frame using a strategy on a column.\n",
    "\n",
    "        Parameters\n",
    "        ----------\n",
    "        df: DataFrame: the data frame to transform with the fitted value.\n",
    "        df_for_fit: None or the data frame to fit the Imputer. If None then df is used for fitting.\n",
    "        strategy: a string for the strategy name defined from sklearn.preprocessing.Imputer.\n",
    "        column: a string for the name of the column to apply the imputation.\n",
    "\n",
    "        Returns\n",
    "        -------\n",
    "        DataFrame: the 'df' with a new column called 'column'_imputed instead of the 'column'.\n",
    "\n",
    "        \"\"\"\n",
    "        # Define the imputer working on columns. \n",
    "        imp = SimpleImputer(missing_values=np.nan, strategy=strategy)\n",
    "\n",
    "        # Get the dataframe used to fit the imputer.\n",
    "        df_fit = df_for_fitting if df_for_fitting is None else df\n",
    "\n",
    "        # Column extractor\n",
    "        extract_column_df = lambda df: np.array([df[column]]).transpose()\n",
    "\n",
    "        # Fit the imputer with a DF of shape (*, 1).\n",
    "        df_ = extract_column_df(df_fit)\n",
    "        model = imp.fit(df_)\n",
    "\n",
    "        # Transform the df of shape (*, 1).\n",
    "        df_ = extract_column_df(df)\n",
    "        res = pd.DataFrame(model.transform(df_))\n",
    "        res.columns = [column]\n",
    "\n",
    "        # Make a copy to add the new column and remove the old one.\n",
    "        df_tmp = df.drop(column, axis=1)\n",
    "        new_column = column + '_imputed'\n",
    "        df_tmp[new_column] = np.array(res[column])\n",
    "\n",
    "        return df_tmp\n",
    "\n",
    "data_prep = DataPreparator()"
   ]
  },
  {
   "cell_type": "code",
   "execution_count": 22,
   "metadata": {},
   "outputs": [
    {
     "name": "stdout",
     "output_type": "stream",
     "text": [
      "(891, 12) (891, 12)\n",
      "Missing values per column:\n",
      "PassengerId         0\n",
      "Survived            0\n",
      "Pclass              0\n",
      "Name                0\n",
      "Sex                 0\n",
      "SibSp               0\n",
      "Parch               0\n",
      "Ticket              0\n",
      "Fare                0\n",
      "Age_imputed         0\n",
      "Cabin_imputed       0\n",
      "Embarked_imputed    0\n",
      "dtype: int64\n"
     ]
    }
   ],
   "source": [
    "# Proceed to impute the Age column.\n",
    "# X_aug = X_train2 # pd.concat([X, X_train.loc[:, 'Age']], axis=1)\n",
    "# print(X_aug['Age'])\n",
    "\n",
    "# from sklearn.impute import SimpleImputer\n",
    "# imp = SimpleImputer(missing_values=np.nan, strategy='mean')\n",
    "# cc = 'Age'\n",
    "# aaa = np.array([X_train2[cc]]).transpose()\n",
    "# print(aaa.shape)\n",
    "# model_imp2 = imp.fit(aaa)\n",
    "# model_imp2.transform(np.array([X_test[cc]]).transpose())\n",
    "\n",
    "# print(X_train.query('Age != Age').loc[:, ['PassengerId','Age']].iloc[:10, :])\n",
    "df_tmp = data_prep.impute(df_tmp, df_tmp, column='Age')\n",
    "df_tmp = data_prep.impute(df_tmp, df_tmp, column='Cabin', strategy='most_frequent')\n",
    "df_tmp = data_prep.impute(df_tmp, df_tmp, column='Embarked', strategy='most_frequent')\n",
    "\n",
    "print(df.shape, df_tmp.shape)\n",
    "\n",
    "print_missing_values(df_tmp, 0)"
   ]
  },
  {
   "cell_type": "markdown",
   "metadata": {},
   "source": [
    "## Features Selection"
   ]
  },
  {
   "cell_type": "code",
   "execution_count": 23,
   "metadata": {},
   "outputs": [],
   "source": [
    "# First keep the columns of interest.\n",
    "\n",
    "def select_features(df, features_to_keep=['Pclass', 'Sex', 'Fare', 'Age_imputed']):\n",
    "    return df.loc[:, features_to_keep]\n",
    "\n",
    "# Add the function as a class method to the DataPreparator.\n",
    "#     features_to_keep = list(set(df.columns) - set(['PassengerId', 'Survived', 'Name', 'SibSp', 'Ticket', 'Cabin_imputed']))\n",
    "\n",
    "DataPreparator.select_features = lambda self, df, features_to_keep=['Pclass', 'Sex', 'Fare', 'Age_imputed']: select_features(df, features_to_keep)"
   ]
  },
  {
   "cell_type": "code",
   "execution_count": 24,
   "metadata": {},
   "outputs": [
    {
     "name": "stdout",
     "output_type": "stream",
     "text": [
      "Missing values per column:\n",
      "Pclass         0\n",
      "Sex            0\n",
      "Fare           0\n",
      "Age_imputed    0\n",
      "dtype: int64\n",
      "Pclass           int64\n",
      "Sex             object\n",
      "Fare           float64\n",
      "Age_imputed    float64\n",
      "dtype: object\n"
     ]
    }
   ],
   "source": [
    "df_tmp = data_prep.select_features(df_tmp)\n",
    "\n",
    "# Check the data.\n",
    "print_missing_values(df_tmp, 0)\n",
    "print(df_tmp.dtypes)"
   ]
  },
  {
   "cell_type": "markdown",
   "metadata": {},
   "source": [
    "## One-hot Encoding of Categorical Features"
   ]
  },
  {
   "cell_type": "code",
   "execution_count": 25,
   "metadata": {},
   "outputs": [
    {
     "name": "stdout",
     "output_type": "stream",
     "text": [
      "(891, 7) (891,)\n"
     ]
    },
    {
     "data": {
      "text/plain": [
       "(      Fare  Age_imputed  Sex_female  Sex_male  Pclass_1  Pclass_2  Pclass_3\n",
       " 0   7.2500         22.0           0         1         0         0         1\n",
       " 1  71.2833         38.0           1         0         1         0         0\n",
       " 2   7.9250         26.0           1         0         0         0         1\n",
       " 3  53.1000         35.0           1         0         1         0         0\n",
       " 4   8.0500         35.0           0         1         0         0         1,\n",
       "    Pclass     Sex     Fare  Age_imputed\n",
       " 0       3    male   7.2500         22.0\n",
       " 1       1  female  71.2833         38.0\n",
       " 2       3  female   7.9250         26.0\n",
       " 3       1  female  53.1000         35.0\n",
       " 4       3    male   8.0500         35.0)"
      ]
     },
     "execution_count": 25,
     "metadata": {},
     "output_type": "execute_result"
    }
   ],
   "source": [
    "def get_one_hot(df, features=None):\n",
    "    \"\"\"\n",
    "    Does the one-hot vectorization of features.\n",
    "    \"\"\"\n",
    "    X = df.loc[:, features]\n",
    "\n",
    "    # Use one-hot encoding for categorical data.\n",
    "    X_dummies = pd.get_dummies(X, columns=features, dtype=np.uint8)\n",
    "    X = df.drop(features, axis=1)\n",
    "    return pd.concat([X, X_dummies], axis=1)\n",
    "\n",
    "# Add the one-hot method to the DataPreparator class.\n",
    "DataPreparator.get_one_hot = lambda self, df, features=[]: get_one_hot(df, features)    \n",
    "    \n",
    "# Prepare the data sets.\n",
    "X_final = data_prep.get_one_hot(df_tmp, features=['Sex', 'Pclass'])\n",
    "Y_final = df.loc[:, 'Survived'] # Get the label from the original data frame df.\n",
    "\n",
    "# Check data.\n",
    "print(X_final.shape, Y_final.shape)\n",
    "X_final.iloc[:5,], df_tmp.iloc[:5,]"
   ]
  },
  {
   "cell_type": "code",
   "execution_count": 26,
   "metadata": {},
   "outputs": [
    {
     "name": "stdout",
     "output_type": "stream",
     "text": [
      "Missing values per column:\n",
      "Fare           0\n",
      "Age_imputed    0\n",
      "Sex_female     0\n",
      "Sex_male       0\n",
      "Pclass_1       0\n",
      "Pclass_2       0\n",
      "Pclass_3       0\n",
      "dtype: int64\n",
      "Fare           float64\n",
      "Age_imputed    float64\n",
      "Sex_female       uint8\n",
      "Sex_male         uint8\n",
      "Pclass_1         uint8\n",
      "Pclass_2         uint8\n",
      "Pclass_3         uint8\n",
      "dtype: object\n"
     ]
    }
   ],
   "source": [
    "# Check the data.\n",
    "print_missing_values(X_final, 0)\n",
    "print(X_final.dtypes)"
   ]
  },
  {
   "cell_type": "markdown",
   "metadata": {},
   "source": [
    "## Scaling the Dataframe"
   ]
  },
  {
   "cell_type": "code",
   "execution_count": 27,
   "metadata": {},
   "outputs": [
    {
     "name": "stderr",
     "output_type": "stream",
     "text": [
      "/Users/hujol/anaconda3/lib/python3.6/site-packages/sklearn/preprocessing/data.py:617: DataConversionWarning: Data with input dtype uint8, float64 were all converted to float64 by StandardScaler.\n",
      "  return self.partial_fit(X, y)\n",
      "/Users/hujol/anaconda3/lib/python3.6/site-packages/sklearn/base.py:462: DataConversionWarning: Data with input dtype uint8, float64 were all converted to float64 by StandardScaler.\n",
      "  return self.fit(X, **fit_params).transform(X)\n"
     ]
    },
    {
     "data": {
      "text/html": [
       "<div>\n",
       "<style scoped>\n",
       "    .dataframe tbody tr th:only-of-type {\n",
       "        vertical-align: middle;\n",
       "    }\n",
       "\n",
       "    .dataframe tbody tr th {\n",
       "        vertical-align: top;\n",
       "    }\n",
       "\n",
       "    .dataframe thead th {\n",
       "        text-align: right;\n",
       "    }\n",
       "</style>\n",
       "<table border=\"1\" class=\"dataframe\">\n",
       "  <thead>\n",
       "    <tr style=\"text-align: right;\">\n",
       "      <th></th>\n",
       "      <th>Fare</th>\n",
       "      <th>Age_imputed</th>\n",
       "      <th>Sex_female</th>\n",
       "      <th>Sex_male</th>\n",
       "      <th>Pclass_1</th>\n",
       "      <th>Pclass_2</th>\n",
       "      <th>Pclass_3</th>\n",
       "    </tr>\n",
       "  </thead>\n",
       "  <tbody>\n",
       "    <tr>\n",
       "      <th>0</th>\n",
       "      <td>-0.502445</td>\n",
       "      <td>-0.592481</td>\n",
       "      <td>-0.737695</td>\n",
       "      <td>0.737695</td>\n",
       "      <td>-0.565685</td>\n",
       "      <td>-0.510152</td>\n",
       "      <td>0.902587</td>\n",
       "    </tr>\n",
       "    <tr>\n",
       "      <th>1</th>\n",
       "      <td>0.786845</td>\n",
       "      <td>0.638789</td>\n",
       "      <td>1.355574</td>\n",
       "      <td>-1.355574</td>\n",
       "      <td>1.767767</td>\n",
       "      <td>-0.510152</td>\n",
       "      <td>-1.107926</td>\n",
       "    </tr>\n",
       "  </tbody>\n",
       "</table>\n",
       "</div>"
      ],
      "text/plain": [
       "       Fare  Age_imputed  Sex_female  Sex_male  Pclass_1  Pclass_2  Pclass_3\n",
       "0 -0.502445    -0.592481   -0.737695  0.737695 -0.565685 -0.510152  0.902587\n",
       "1  0.786845     0.638789    1.355574 -1.355574  1.767767 -0.510152 -1.107926"
      ]
     },
     "execution_count": 27,
     "metadata": {},
     "output_type": "execute_result"
    }
   ],
   "source": [
    "from sklearn.preprocessing import StandardScaler\n",
    "\n",
    "ss = StandardScaler()\n",
    "X_scaled = pd.DataFrame(ss.fit_transform(X_final))\n",
    "X_scaled.columns = X_final.columns\n",
    "X_scaled.iloc[:2,]"
   ]
  },
  {
   "cell_type": "code",
   "execution_count": 28,
   "metadata": {},
   "outputs": [
    {
     "data": {
      "text/plain": [
       "pandas.core.frame.DataFrame"
      ]
     },
     "execution_count": 28,
     "metadata": {},
     "output_type": "execute_result"
    }
   ],
   "source": [
    "type(X_final)"
   ]
  },
  {
   "cell_type": "markdown",
   "metadata": {},
   "source": [
    "# Split Dataset into Training and Validation datasets"
   ]
  },
  {
   "cell_type": "code",
   "execution_count": 29,
   "metadata": {
    "_cell_guid": "79c7e3d0-c299-4dcb-8224-4455121ee9b0",
    "_uuid": "d629ff2d2480ee46fbb7e2d37f6b5fab8052498a"
   },
   "outputs": [
    {
     "name": "stdout",
     "output_type": "stream",
     "text": [
      "(712, 7) (712,)\n",
      "(179, 7) (179,)\n"
     ]
    }
   ],
   "source": [
    "from sklearn.model_selection import train_test_split\n",
    "\n",
    "# Divide into training and cross-validation datasets.\n",
    "X_train, X_validation, Y_train, Y_validation = train_test_split(X_scaled, Y_final, test_size=0.2, random_state=42)\n",
    "# X_train, X_validation, Y_train, Y_validation = X_final, X_final, Y_final, Y_final\n",
    "\n",
    "# Check the data.\n",
    "print(X_train.shape, Y_train.shape)\n",
    "print(X_validation.shape, Y_validation.shape)"
   ]
  },
  {
   "cell_type": "markdown",
   "metadata": {},
   "source": [
    "# 5-fold Cross Validation on 4 Different Classifiers"
   ]
  },
  {
   "cell_type": "code",
   "execution_count": 30,
   "metadata": {},
   "outputs": [],
   "source": [
    "from sklearn.base import clone\n",
    "\n",
    "class HelperCrossValidation:\n",
    "    \"\"\"\n",
    "    Helper class for running cross validations.\n",
    "    \"\"\"\n",
    "    def print_features_importance(self, df, clf):\n",
    "        if not hasattr(clf, 'feature_importances_'):\n",
    "            return\n",
    "        \n",
    "        print(type(df))\n",
    "        print(type(clf))\n",
    "        \n",
    "        # Display the features by descending importance.\n",
    "        df_disp = pd.DataFrame(list(zip(list(df.columns), clf.feature_importances_)))\n",
    "        df_disp.columns = ['Feature', 'Percentage']\n",
    "        print(df_disp.sort_values(by='Percentage', ascending=False)[:10].to_string(index=False))\n",
    "\n",
    "    def cross_val_score_do(self, name, clf, X, Y, cv):\n",
    "        # Cross validate the classifier.\n",
    "        scores = cross_val_score(clf, X, Y, cv=cv)\n",
    "        print(\"\\n%s Score: %.10f\" % (name, scores.mean()))\n",
    "\n",
    "        # Fit the classifier and show the feature importance.\n",
    "        clf_cloned = clone(clf)\n",
    "        model = clf_cloned.fit(X, Y)\n",
    "\n",
    "        # Display the features by descending importance.\n",
    "        self.print_features_importance(X, clf_cloned)\n",
    "\n",
    "        return model"
   ]
  },
  {
   "cell_type": "markdown",
   "metadata": {},
   "source": [
    "# Setting Training Dataset and Classifiers"
   ]
  },
  {
   "cell_type": "code",
   "execution_count": 31,
   "metadata": {},
   "outputs": [
    {
     "name": "stderr",
     "output_type": "stream",
     "text": [
      "/Users/hujol/anaconda3/lib/python3.6/site-packages/sklearn/linear_model/logistic.py:432: FutureWarning: Default solver will be changed to 'lbfgs' in 0.22. Specify a solver to silence this warning.\n",
      "  FutureWarning)\n",
      "/Users/hujol/anaconda3/lib/python3.6/site-packages/sklearn/linear_model/logistic.py:432: FutureWarning: Default solver will be changed to 'lbfgs' in 0.22. Specify a solver to silence this warning.\n",
      "  FutureWarning)\n",
      "/Users/hujol/anaconda3/lib/python3.6/site-packages/sklearn/linear_model/logistic.py:432: FutureWarning: Default solver will be changed to 'lbfgs' in 0.22. Specify a solver to silence this warning.\n",
      "  FutureWarning)\n",
      "/Users/hujol/anaconda3/lib/python3.6/site-packages/sklearn/linear_model/logistic.py:432: FutureWarning: Default solver will be changed to 'lbfgs' in 0.22. Specify a solver to silence this warning.\n",
      "  FutureWarning)\n",
      "/Users/hujol/anaconda3/lib/python3.6/site-packages/sklearn/linear_model/logistic.py:432: FutureWarning: Default solver will be changed to 'lbfgs' in 0.22. Specify a solver to silence this warning.\n",
      "  FutureWarning)\n",
      "/Users/hujol/anaconda3/lib/python3.6/site-packages/sklearn/linear_model/logistic.py:432: FutureWarning: Default solver will be changed to 'lbfgs' in 0.22. Specify a solver to silence this warning.\n",
      "  FutureWarning)\n"
     ]
    },
    {
     "name": "stdout",
     "output_type": "stream",
     "text": [
      "\n",
      "RandomForestClassifier Score: 0.7921762984\n",
      "\n",
      "RandomForestClassifier Score: 0.7991387795\n",
      "<class 'pandas.core.frame.DataFrame'>\n",
      "<class 'sklearn.ensemble.forest.RandomForestClassifier'>\n",
      "Feature  Percentage\n",
      "       Fare    0.309559\n",
      "Age_imputed    0.274660\n",
      "   Sex_male    0.152965\n",
      " Sex_female    0.139012\n",
      "   Pclass_3    0.055079\n",
      "   Pclass_1    0.053339\n",
      "   Pclass_2    0.015386\n",
      "\n",
      "ExtraTreesClassifier Score: 0.8061417755\n",
      "<class 'pandas.core.frame.DataFrame'>\n",
      "<class 'sklearn.ensemble.forest.ExtraTreesClassifier'>\n",
      "Feature  Percentage\n",
      "       Fare    0.308728\n",
      "Age_imputed    0.276013\n",
      " Sex_female    0.221796\n",
      "   Sex_male    0.085316\n",
      "   Pclass_3    0.064921\n",
      "   Pclass_1    0.021797\n",
      "   Pclass_2    0.021429\n",
      "\n",
      "DecisionTreeClassifier Score: 0.7725158270\n",
      "<class 'pandas.core.frame.DataFrame'>\n",
      "<class 'sklearn.tree.tree.DecisionTreeClassifier'>\n",
      "Feature  Percentage\n",
      " Sex_female    0.310167\n",
      "       Fare    0.307127\n",
      "Age_imputed    0.243507\n",
      "   Pclass_3    0.099645\n",
      "   Pclass_1    0.023758\n",
      "   Pclass_2    0.015795\n",
      "   Sex_male    0.000000\n",
      "\n",
      "GradientBoostingClassifier Score: 0.8118256631\n",
      "<class 'pandas.core.frame.DataFrame'>\n",
      "<class 'sklearn.ensemble.gradient_boosting.GradientBoostingClassifier'>\n",
      "Feature  Percentage\n",
      " Sex_female    0.638223\n",
      "   Pclass_3    0.159047\n",
      "       Fare    0.094389\n",
      "Age_imputed    0.092822\n",
      "   Pclass_1    0.015518\n",
      "   Sex_male    0.000000\n",
      "   Pclass_2    0.000000\n"
     ]
    }
   ],
   "source": [
    "from sklearn.tree import DecisionTreeClassifier\n",
    "from sklearn.ensemble import RandomForestClassifier\n",
    "from sklearn.ensemble import ExtraTreesClassifier\n",
    "from sklearn.model_selection import cross_val_score\n",
    "from sklearn.ensemble import GradientBoostingClassifier\n",
    "from sklearn.linear_model import LogisticRegression\n",
    "\n",
    "# Setup.\n",
    "X = X_train\n",
    "Y = Y_train\n",
    "\n",
    "# Instanciate a HelperCrossValidation\n",
    "helper_cv = HelperCrossValidation()\n",
    "\n",
    "# Model.\n",
    "clf_lr = LogisticRegression(penalty='l2', C=0.1)\n",
    "model_lr = helper_cv.cross_val_score_do('RandomForestClassifier', clf_lr, X, Y, 5)\n",
    "\n",
    "clf_rfc = RandomForestClassifier(n_estimators=10, max_depth=None, min_samples_split=2, random_state=101)\n",
    "model_rfc = helper_cv.cross_val_score_do('RandomForestClassifier', clf_rfc, X, Y, 5)\n",
    "\n",
    "clf_etc = ExtraTreesClassifier(n_estimators=10, max_depth=None, min_samples_split=2, random_state=290)\n",
    "model_etc = helper_cv.cross_val_score_do('ExtraTreesClassifier', clf_etc, X, Y, 5)\n",
    "\n",
    "clf_dtc = DecisionTreeClassifier(max_depth=None, min_samples_split=2, random_state=13)\n",
    "model_dtc = helper_cv.cross_val_score_do('DecisionTreeClassifier', clf_dtc, X, Y, 5)\n",
    "\n",
    "clf_gbc = GradientBoostingClassifier(n_estimators=70, learning_rate=0.5, max_depth=1, random_state=43)\n",
    "model_gbc = helper_cv.cross_val_score_do('GradientBoostingClassifier', clf_gbc, X, Y, 5)\n",
    "\n",
    "# SGDClassifier(max_iter=5)"
   ]
  },
  {
   "cell_type": "markdown",
   "metadata": {},
   "source": [
    "# ROC Visualization"
   ]
  },
  {
   "cell_type": "code",
   "execution_count": 32,
   "metadata": {},
   "outputs": [
    {
     "name": "stdout",
     "output_type": "stream",
     "text": [
      "lr Accuracy :0.787921348314607\n"
     ]
    },
    {
     "name": "stderr",
     "output_type": "stream",
     "text": [
      "/Users/hujol/anaconda3/lib/python3.6/site-packages/scipy/stats/stats.py:1713: FutureWarning: Using a non-tuple sequence for multidimensional indexing is deprecated; use `arr[tuple(seq)]` instead of `arr[seq]`. In the future this will be interpreted as an array index, `arr[np.array(seq)]`, which will result either in an error or a different result.\n",
      "  return np.add.reduce(sorted[indexer] * weights, axis=axis) / sumval\n"
     ]
    },
    {
     "name": "stdout",
     "output_type": "stream",
     "text": [
      "dtc Accuracy :0.978932584269663\n",
      "etc Accuracy :0.978932584269663\n",
      "gbc Accuracy :0.827247191011236\n"
     ]
    },
    {
     "name": "stderr",
     "output_type": "stream",
     "text": [
      "/Users/hujol/anaconda3/lib/python3.6/site-packages/scipy/stats/stats.py:1713: FutureWarning: Using a non-tuple sequence for multidimensional indexing is deprecated; use `arr[tuple(seq)]` instead of `arr[seq]`. In the future this will be interpreted as an array index, `arr[np.array(seq)]`, which will result either in an error or a different result.\n",
      "  return np.add.reduce(sorted[indexer] * weights, axis=axis) / sumval\n",
      "/Users/hujol/anaconda3/lib/python3.6/site-packages/scipy/stats/stats.py:1713: FutureWarning: Using a non-tuple sequence for multidimensional indexing is deprecated; use `arr[tuple(seq)]` instead of `arr[seq]`. In the future this will be interpreted as an array index, `arr[np.array(seq)]`, which will result either in an error or a different result.\n",
      "  return np.add.reduce(sorted[indexer] * weights, axis=axis) / sumval\n",
      "/Users/hujol/anaconda3/lib/python3.6/site-packages/scipy/stats/stats.py:1713: FutureWarning: Using a non-tuple sequence for multidimensional indexing is deprecated; use `arr[tuple(seq)]` instead of `arr[seq]`. In the future this will be interpreted as an array index, `arr[np.array(seq)]`, which will result either in an error or a different result.\n",
      "  return np.add.reduce(sorted[indexer] * weights, axis=axis) / sumval\n"
     ]
    },
    {
     "name": "stdout",
     "output_type": "stream",
     "text": [
      "rfc Accuracy :0.953651685393258\n"
     ]
    },
    {
     "name": "stderr",
     "output_type": "stream",
     "text": [
      "/Users/hujol/anaconda3/lib/python3.6/site-packages/scipy/stats/stats.py:1713: FutureWarning: Using a non-tuple sequence for multidimensional indexing is deprecated; use `arr[tuple(seq)]` instead of `arr[seq]`. In the future this will be interpreted as an array index, `arr[np.array(seq)]`, which will result either in an error or a different result.\n",
      "  return np.add.reduce(sorted[indexer] * weights, axis=axis) / sumval\n"
     ]
    },
    {
     "data": {
      "image/png": "[encoded data removed]",
      "text/plain": [
       "<Figure size 432x288 with 1 Axes>"
      ]
     },
     "metadata": {
      "needs_background": "light"
     },
     "output_type": "display_data"
    }
   ],
   "source": [
    "from sklearn import metrics\n",
    "\n",
    "def plot_roc(models={}, X=None, Y=None):\n",
    "    for name in models:\n",
    "        model = models[name]\n",
    "        \n",
    "        # Evaluate.\n",
    "        y_pred_proba = model.predict_proba(X)[::, 1] # Dont know why take index=1 or 0?!?!\n",
    "        print(\"%s Accuracy :%.15f\" % (name, metrics.accuracy_score(Y, model.predict(X))))\n",
    "\n",
    "        # Compute the probabilities.\n",
    "        fpr, tpr, _ = metrics.roc_curve(Y, y_pred_proba, pos_label=1)\n",
    "        roc_auc = metrics.auc(fpr, tpr)\n",
    "\n",
    "        # Plot the ROC.\n",
    "        fpr_tpr = pd.DataFrame(list(zip(fpr.ravel(), tpr.ravel())))\n",
    "        fpr_tpr.columns = [ 'fpr', 'tpr']\n",
    "        sns.lineplot(x=\"fpr\", y=\"tpr\", data=fpr_tpr, label='%s ROC fold (AUC = %0.2f)' % (name, roc_auc))\n",
    "\n",
    "    sns.lineplot([0, 1], [0, 1], linestyle='--', lw=2, label='Chance', alpha=.8)\n",
    "    plt.legend(loc=4)\n",
    "    plt.title('Receiver Operating Characteristic')\n",
    "    plt.show()\n",
    "    \n",
    "plot_roc({'lr' : model_lr, 'dtc' : model_dtc, 'etc' : model_etc, 'gbc' : model_gbc, 'rfc' : model_rfc}, X, Y)"
   ]
  },
  {
   "cell_type": "markdown",
   "metadata": {},
   "source": [
    "# 5-fold Cross Validation on Best Classifier for Hyperparameters Tuning"
   ]
  },
  {
   "cell_type": "code",
   "execution_count": 33,
   "metadata": {},
   "outputs": [],
   "source": [
    "from sklearn.model_selection import GridSearchCV\n",
    "\n",
    "def do_cross_validation(clf, X, Y, k):\n",
    "    \"\"\"\n",
    "    Run the k-fold GridSearchCV on X and Y\n",
    "    \n",
    "    Parameters\n",
    "    ----------\n",
    "    clf: the original classifier to clone for testing the hyperparameters.\n",
    "    X: the data set to use for splitting into training and cross validation datasets.\n",
    "    Y: the labels.\n",
    "    k; the number of cross validation datasets split from X.\n",
    "    \n",
    "    Returns\n",
    "    -------\n",
    "    clf: the best classifier after evaluating all the possible hyperparameter settings.\n",
    "    \n",
    "    \"\"\"\n",
    "    parameters = {'max_features': [1, len(X.columns)], 'n_estimators': [5, 50, 250, 400, 1000]}\n",
    "\n",
    "    clf_cv = GridSearchCV(clf, parameters, cv=k)\n",
    "\n",
    "    %timeit\n",
    "    clf_model = clf_cv.fit(X, Y)\n",
    "\n",
    "    # Display the scores.\n",
    "#     for row in clf_model.cv_results_:\n",
    "#         print(row)\n",
    "\n",
    "    return clf_model.best_estimator_\n",
    "\n",
    "clf = do_cross_validation(clf_etc, X, Y, 5)"
   ]
  },
  {
   "cell_type": "markdown",
   "metadata": {},
   "source": [
    "# Evaluation of the Best Classifier"
   ]
  },
  {
   "cell_type": "code",
   "execution_count": 34,
   "metadata": {},
   "outputs": [
    {
     "name": "stdout",
     "output_type": "stream",
     "text": [
      "<class 'pandas.core.frame.DataFrame'>\n",
      "<class 'sklearn.ensemble.forest.ExtraTreesClassifier'>\n",
      "Feature  Percentage\n",
      "       Fare    0.310063\n",
      "Age_imputed    0.255802\n",
      "   Sex_male    0.163768\n",
      " Sex_female    0.146399\n",
      "   Pclass_3    0.096489\n",
      "   Pclass_1    0.019686\n",
      "   Pclass_2    0.007793\n"
     ]
    }
   ],
   "source": [
    "from sklearn.metrics import confusion_matrix\n",
    "\n",
    "# Print features importance.\n",
    "helper_cv.print_features_importance(X, clf)"
   ]
  },
  {
   "cell_type": "code",
   "execution_count": 35,
   "metadata": {},
   "outputs": [],
   "source": [
    "import itertools\n",
    "\n",
    "def plot_confusion_matrix(cm, classes,\n",
    "                          normalize=False,\n",
    "                          title='Confusion matrix',\n",
    "                          cmap=plt.cm.Blues):\n",
    "    \"\"\"\n",
    "    This function prints and plots the confusion matrix.\n",
    "    Normalization can be applied by setting `normalize=True`.\n",
    "    \"\"\"\n",
    "    if normalize:\n",
    "        cm = cm.astype('float') / cm.sum(axis=1)[:, np.newaxis]\n",
    "        print(\"Normalized confusion matrix\")\n",
    "    else:\n",
    "        print('Confusion matrix, without normalization')\n",
    "\n",
    "    print(cm)\n",
    "\n",
    "    plt.imshow(cm, interpolation='nearest', cmap=cmap)\n",
    "    plt.title(title)\n",
    "    plt.colorbar()\n",
    "    tick_marks = np.arange(len(classes))\n",
    "    plt.xticks(tick_marks, classes, rotation=45)\n",
    "    plt.yticks(tick_marks, classes)\n",
    "\n",
    "    fmt = '.2f' if normalize else 'd'\n",
    "    thresh = cm.max() / 2.\n",
    "    for i, j in itertools.product(range(cm.shape[0]), range(cm.shape[1])):\n",
    "        plt.text(j, i, format(cm[i, j], fmt),\n",
    "                 horizontalalignment=\"center\",\n",
    "                 color=\"white\" if cm[i, j] > thresh else \"black\")\n",
    "\n",
    "    plt.ylabel('True label')\n",
    "    plt.xlabel('Predicted label')\n",
    "    plt.tight_layout()\n",
    "\n",
    "def display_metrics(clf, X, Y):\n",
    "    # Predict the values on X.    \n",
    "    X_prediction = clf.predict(X)\n",
    "\n",
    "    print(\"Score: %.15f\" % clf.score(X, Y))\n",
    "\n",
    "    # Compute confusion matrix\n",
    "    cnf_matrix = confusion_matrix(Y, X_prediction)\n",
    "    # tn, fp, fn, tp = cnf_matrix.ravel()\n",
    "\n",
    "    # Compute confusion matrix\n",
    "    np.set_printoptions(precision=2)\n",
    "\n",
    "    class_names = ['Did Not', 'Survived']\n",
    "\n",
    "    # Plot non-normalized confusion matrix\n",
    "    plt.figure()\n",
    "    plot_confusion_matrix(cnf_matrix, classes=class_names,\n",
    "                          title='Confusion matrix, without normalization')\n",
    "\n",
    "    # Plot normalized confusion matrix\n",
    "    plt.figure()\n",
    "    plot_confusion_matrix(cnf_matrix, classes=class_names, normalize=True,\n",
    "                          title='Normalized confusion matrix')\n",
    "\n",
    "    plt.show()"
   ]
  },
  {
   "cell_type": "code",
   "execution_count": 36,
   "metadata": {},
   "outputs": [
    {
     "name": "stdout",
     "output_type": "stream",
     "text": [
      "Score: 0.978932584269663\n",
      "Confusion matrix, without normalization\n",
      "[[442   2]\n",
      " [ 13 255]]\n",
      "Normalized confusion matrix\n",
      "[[1.   0.  ]\n",
      " [0.05 0.95]]\n"
     ]
    },
    {
     "data": {
      "image/png": "[encoded data removed]",
      "text/plain": [
       "<Figure size 432x288 with 2 Axes>"
      ]
     },
     "metadata": {
      "needs_background": "light"
     },
     "output_type": "display_data"
    },
    {
     "data": {
      "image/png": "[encoded data removed]",
      "text/plain": [
       "<Figure size 432x288 with 2 Axes>"
      ]
     },
     "metadata": {
      "needs_background": "light"
     },
     "output_type": "display_data"
    }
   ],
   "source": [
    "display_metrics(clf, X, Y)"
   ]
  },
  {
   "cell_type": "markdown",
   "metadata": {},
   "source": [
    "# Test on X_test Dataset"
   ]
  },
  {
   "cell_type": "code",
   "execution_count": 37,
   "metadata": {},
   "outputs": [
    {
     "name": "stdout",
     "output_type": "stream",
     "text": [
      "(179, 7) (179,)\n",
      "Index(['Fare', 'Age_imputed', 'Sex_female', 'Sex_male', 'Pclass_1', 'Pclass_2',\n",
      "       'Pclass_3'],\n",
      "      dtype='object')\n",
      "Missing values per column:\n",
      "Fare           0\n",
      "Age_imputed    0\n",
      "Sex_female     0\n",
      "Sex_male       0\n",
      "Pclass_1       0\n",
      "Pclass_2       0\n",
      "Pclass_3       0\n",
      "dtype: int64\n"
     ]
    }
   ],
   "source": [
    "# Create the test sets.\n",
    "Xt = X_validation\n",
    "Yt = Y_validation\n",
    "\n",
    "print(Xt.shape, Yt.shape)\n",
    "print(Xt.columns)\n",
    "\n",
    "print_missing_values(Xt, 0)"
   ]
  },
  {
   "cell_type": "code",
   "execution_count": 38,
   "metadata": {},
   "outputs": [
    {
     "name": "stdout",
     "output_type": "stream",
     "text": [
      "Score: 0.776536312849162\n",
      "<class 'pandas.core.frame.DataFrame'>\n",
      "<class 'sklearn.ensemble.forest.ExtraTreesClassifier'>\n",
      "Feature  Percentage\n",
      "       Fare    0.310063\n",
      "Age_imputed    0.255802\n",
      "   Sex_male    0.163768\n",
      " Sex_female    0.146399\n",
      "   Pclass_3    0.096489\n",
      "   Pclass_1    0.019686\n",
      "   Pclass_2    0.007793\n",
      "Score: 0.776536312849162\n",
      "Confusion matrix, without normalization\n",
      "[[84 21]\n",
      " [19 55]]\n",
      "Normalized confusion matrix\n",
      "[[0.8  0.2 ]\n",
      " [0.26 0.74]]\n"
     ]
    },
    {
     "data": {
      "image/png": "[encoded data removed]",
      "text/plain": [
       "<Figure size 432x288 with 2 Axes>"
      ]
     },
     "metadata": {
      "needs_background": "light"
     },
     "output_type": "display_data"
    },
    {
     "data": {
      "image/png": "[encoded data removed]",
      "text/plain": [
       "<Figure size 432x288 with 2 Axes>"
      ]
     },
     "metadata": {
      "needs_background": "light"
     },
     "output_type": "display_data"
    }
   ],
   "source": [
    "# Score the Classifier that performed best on the test set.\n",
    "print(\"Score: %.15f\" % clf.score(Xt, Yt))\n",
    "\n",
    "# Print features importance.\n",
    "helper_cv.print_features_importance(Xt, clf)\n",
    "\n",
    "# Display metrics.\n",
    "display_metrics(clf, Xt, Yt)"
   ]
  },
  {
   "cell_type": "markdown",
   "metadata": {},
   "source": [
    "# CSV of Test Data Set Prediction"
   ]
  },
  {
   "cell_type": "code",
   "execution_count": 39,
   "metadata": {},
   "outputs": [
    {
     "name": "stdout",
     "output_type": "stream",
     "text": [
      "PassengerId    False\n",
      "Pclass         False\n",
      "Name           False\n",
      "Sex            False\n",
      "Age             True\n",
      "SibSp          False\n",
      "Parch          False\n",
      "Ticket         False\n",
      "Fare            True\n",
      "Cabin           True\n",
      "Embarked       False\n",
      "dtype: bool\n",
      "PassengerId      int64\n",
      "Pclass           int64\n",
      "Name            object\n",
      "Sex             object\n",
      "Age            float64\n",
      "SibSp            int64\n",
      "Parch            int64\n",
      "Ticket          object\n",
      "Fare           float64\n",
      "Cabin           object\n",
      "Embarked        object\n",
      "dtype: object\n",
      "Missing values per column:\n",
      "PassengerId      0\n",
      "Pclass           0\n",
      "Name             0\n",
      "Sex              0\n",
      "Age             86\n",
      "SibSp            0\n",
      "Parch            0\n",
      "Ticket           0\n",
      "Fare             1\n",
      "Cabin          327\n",
      "Embarked         0\n",
      "dtype: int64\n"
     ]
    },
    {
     "data": {
      "text/html": [
       "<div>\n",
       "<style scoped>\n",
       "    .dataframe tbody tr th:only-of-type {\n",
       "        vertical-align: middle;\n",
       "    }\n",
       "\n",
       "    .dataframe tbody tr th {\n",
       "        vertical-align: top;\n",
       "    }\n",
       "\n",
       "    .dataframe thead th {\n",
       "        text-align: right;\n",
       "    }\n",
       "</style>\n",
       "<table border=\"1\" class=\"dataframe\">\n",
       "  <thead>\n",
       "    <tr style=\"text-align: right;\">\n",
       "      <th></th>\n",
       "      <th>PassengerId</th>\n",
       "      <th>Pclass</th>\n",
       "      <th>Name</th>\n",
       "      <th>Sex</th>\n",
       "      <th>Age</th>\n",
       "      <th>SibSp</th>\n",
       "      <th>Parch</th>\n",
       "      <th>Ticket</th>\n",
       "      <th>Fare</th>\n",
       "      <th>Cabin</th>\n",
       "      <th>Embarked</th>\n",
       "    </tr>\n",
       "  </thead>\n",
       "  <tbody>\n",
       "    <tr>\n",
       "      <th>152</th>\n",
       "      <td>1044</td>\n",
       "      <td>3</td>\n",
       "      <td>Storey, Mr. Thomas</td>\n",
       "      <td>male</td>\n",
       "      <td>60.5</td>\n",
       "      <td>0</td>\n",
       "      <td>0</td>\n",
       "      <td>3701</td>\n",
       "      <td>NaN</td>\n",
       "      <td>NaN</td>\n",
       "      <td>S</td>\n",
       "    </tr>\n",
       "  </tbody>\n",
       "</table>\n",
       "</div>"
      ],
      "text/plain": [
       "     PassengerId  Pclass                Name   Sex   Age  SibSp  Parch Ticket  \\\n",
       "152         1044       3  Storey, Mr. Thomas  male  60.5      0      0   3701   \n",
       "\n",
       "     Fare Cabin Embarked  \n",
       "152   NaN   NaN        S  "
      ]
     },
     "execution_count": 39,
     "metadata": {},
     "output_type": "execute_result"
    }
   ],
   "source": [
    "# Load the test set.\n",
    "df_test_raw = pd.read_csv(base_path_data + '/test.csv', sep=\",\", header=0, encoding='utf-8')\n",
    "\n",
    "print(df_test_raw.isna().any())\n",
    "print(df_test_raw.dtypes)\n",
    "\n",
    "# Show the result.\n",
    "print_missing_values(df_test_raw, 0)\n",
    "\n",
    "# print(df_test_raw.iloc[:10,])\n",
    "df_test_raw.query('Fare != Fare')"
   ]
  },
  {
   "cell_type": "code",
   "execution_count": 40,
   "metadata": {},
   "outputs": [
    {
     "name": "stdout",
     "output_type": "stream",
     "text": [
      "Index(['Fare', 'Age_imputed', 'Sex_female', 'Sex_male', 'Pclass_1', 'Pclass_2',\n",
      "       'Pclass_3'],\n",
      "      dtype='object')\n",
      "Index(['PassengerId', 'Pclass', 'Name', 'Sex', 'SibSp', 'Parch', 'Ticket',\n",
      "       'Embarked', 'Age_imputed', 'Cabin_imputed', 'Fare_imputed', 'Fare'],\n",
      "      dtype='object')\n",
      "Index(['Fare', 'Age_imputed', 'Sex', 'Pclass'], dtype='object')\n",
      "(418, 11) (418, 7)\n"
     ]
    },
    {
     "name": "stderr",
     "output_type": "stream",
     "text": [
      "/Users/hujol/anaconda3/lib/python3.6/site-packages/ipykernel_launcher.py:28: DataConversionWarning: Data with input dtype uint8, float64 were all converted to float64 by StandardScaler.\n"
     ]
    }
   ],
   "source": [
    "from sklearn.preprocessing import Imputer\n",
    "\n",
    "df_tmp = df_test_raw\n",
    "# Leave this out for the time being.\n",
    "# df_tmp['Title'] = df_test_raw['Name'].apply(extract_title)\n",
    "\n",
    "df_tmp.head()\n",
    "\n",
    "df_tmp = data_prep.impute(df_tmp, df_tmp, column='Age')\n",
    "df_tmp = data_prep.impute(df_tmp, df_tmp, column='Cabin', strategy='most_frequent')\n",
    "df_tmp = data_prep.impute(df_tmp, df_tmp, column='Fare', strategy='mean')\n",
    "df_tmp['Fare'] = df_tmp['Fare_imputed']\n",
    "\n",
    "# Check the columns of the trained model based on features of X.\n",
    "print(X.columns)\n",
    "print(df_tmp.columns)\n",
    "\n",
    "df_tmp = data_prep.select_features(df_tmp, features_to_keep=['Fare', 'Age_imputed', 'Sex', 'Pclass'])\n",
    "\n",
    "# TODO: jh 2018/11/02\n",
    "# Should check that the columns of the test dataset are the same as the X dataset used for training.\n",
    "\n",
    "print(df_tmp.columns)\n",
    "\n",
    "Xt_raw = data_prep.get_one_hot(df_tmp, features=['Sex', 'Pclass']) # 'Cabin_imputed', \n",
    "\n",
    "# Add scaling.\n",
    "Xt_scaled = pd.DataFrame(ss.transform(Xt_raw))\n",
    "Xt_scaled.columns = Xt_raw.columns\n",
    "\n",
    "Xt_raw = Xt_scaled\n",
    "print(df_test_raw.shape, Xt_raw.shape)"
   ]
  },
  {
   "cell_type": "code",
   "execution_count": 41,
   "metadata": {},
   "outputs": [
    {
     "name": "stdout",
     "output_type": "stream",
     "text": [
      "Missing values per column:\n",
      "Fare           0\n",
      "Age_imputed    0\n",
      "Sex_female     0\n",
      "Sex_male       0\n",
      "Pclass_1       0\n",
      "Pclass_2       0\n",
      "Pclass_3       0\n",
      "dtype: int64\n",
      "Missing values per column:\n",
      "Fare           0\n",
      "Age_imputed    0\n",
      "Sex_female     0\n",
      "Sex_male       0\n",
      "Pclass_1       0\n",
      "Pclass_2       0\n",
      "Pclass_3       0\n",
      "dtype: int64\n"
     ]
    }
   ],
   "source": [
    "# Show the result.\n",
    "print_missing_values(Xt, 0)\n",
    "print_missing_values(Xt_raw, 0)"
   ]
  },
  {
   "cell_type": "code",
   "execution_count": 42,
   "metadata": {},
   "outputs": [],
   "source": [
    "X_test_given_predicted = clf.predict(Xt_raw)\n",
    "\n",
    "# print(X_test.iloc[:10,])"
   ]
  },
  {
   "cell_type": "code",
   "execution_count": 43,
   "metadata": {},
   "outputs": [
    {
     "name": "stdout",
     "output_type": "stream",
     "text": [
      "test prediction save in:\n",
      " ../../data/csv_submission_20181105-1127.csv\n"
     ]
    }
   ],
   "source": [
    "import datetime\n",
    "\n",
    "df_to_submit = pd.DataFrame(list(zip(df_test_raw.loc[:,'PassengerId'], X_test_given_predicted)))\n",
    "df_to_submit.columns = ['PassengerId', 'Survived']\n",
    "df_to_submit.PassengerId = df_to_submit.PassengerId.astype(np.int32)\n",
    "df_to_submit.Survived = df_to_submit.Survived.astype(np.int32)\n",
    "\n",
    "today = datetime.datetime.today()\n",
    "today_s = today.strftime('%Y%m%d-%H%M')\n",
    "\n",
    "csv_dest = \"%s/csv_submission_%s.csv\" % (base_path_data, today_s)\n",
    "\n",
    "# Save the CSV\n",
    "df_to_submit.to_csv(csv_dest, index=False)\n",
    "\n",
    "print(\"test prediction save in:\\n %s\" % csv_dest)"
   ]
  }
 ],
 "metadata": {
  "kernelspec": {
   "display_name": "Python 3",
   "language": "python",
   "name": "python3"
  },
  "language_info": {
   "codemirror_mode": {
    "name": "ipython",
    "version": 3
   },
   "file_extension": ".py",
   "mimetype": "text/x-python",
   "name": "python",
   "nbconvert_exporter": "python",
   "pygments_lexer": "ipython3",
   "version": "3.6.6"
  }
 },
 "nbformat": 4,
 "nbformat_minor": 2
}
